{
 "cells": [
  {
   "cell_type": "markdown",
   "metadata": {},
   "source": [
    "## Introduction:\n",
    "<br>\n",
    "<p>The RMS Titanic was a luxury steamship and ship sank in April 15, 1912. In this disaster more. than 1500 people lost their lives from total 2240 people. Out of 126, 59 children aged under 14 sadly died. However, there were 53.4% survival rate shown on titanic facts article (titanicfacts.net, n.d.). In this project my goal is to predict which passengers survived the Titanic shipwreck using suitable machine learning model. I have taken dataset from Kaggle website (kaggle, n.d.). Based on training dataset the survival rate is 38.4%. I have decided to build decision tree model to predict survived passengers. I am using CART (Classification and Regression Trees) technique to build Decision Tree model.</p> \n"
   ]
  },
  {
   "cell_type": "markdown",
   "metadata": {},
   "source": [
    "## Load Datasets"
   ]
  },
  {
   "cell_type": "code",
   "execution_count": 1,
   "metadata": {},
   "outputs": [
    {
     "data": {
      "text/html": [
       "<div>\n",
       "<style scoped>\n",
       "    .dataframe tbody tr th:only-of-type {\n",
       "        vertical-align: middle;\n",
       "    }\n",
       "\n",
       "    .dataframe tbody tr th {\n",
       "        vertical-align: top;\n",
       "    }\n",
       "\n",
       "    .dataframe thead th {\n",
       "        text-align: right;\n",
       "    }\n",
       "</style>\n",
       "<table border=\"1\" class=\"dataframe\">\n",
       "  <thead>\n",
       "    <tr style=\"text-align: right;\">\n",
       "      <th></th>\n",
       "      <th>PassengerId</th>\n",
       "      <th>Survived</th>\n",
       "      <th>Pclass</th>\n",
       "      <th>Name</th>\n",
       "      <th>Sex</th>\n",
       "      <th>Age</th>\n",
       "      <th>SibSp</th>\n",
       "      <th>Parch</th>\n",
       "      <th>Ticket</th>\n",
       "      <th>Fare</th>\n",
       "      <th>Cabin</th>\n",
       "      <th>Embarked</th>\n",
       "    </tr>\n",
       "  </thead>\n",
       "  <tbody>\n",
       "    <tr>\n",
       "      <th>0</th>\n",
       "      <td>1</td>\n",
       "      <td>0</td>\n",
       "      <td>3</td>\n",
       "      <td>Braund, Mr. Owen Harris</td>\n",
       "      <td>male</td>\n",
       "      <td>22.0</td>\n",
       "      <td>1</td>\n",
       "      <td>0</td>\n",
       "      <td>A/5 21171</td>\n",
       "      <td>7.2500</td>\n",
       "      <td>NaN</td>\n",
       "      <td>S</td>\n",
       "    </tr>\n",
       "    <tr>\n",
       "      <th>1</th>\n",
       "      <td>2</td>\n",
       "      <td>1</td>\n",
       "      <td>1</td>\n",
       "      <td>Cumings, Mrs. John Bradley (Florence Briggs Th...</td>\n",
       "      <td>female</td>\n",
       "      <td>38.0</td>\n",
       "      <td>1</td>\n",
       "      <td>0</td>\n",
       "      <td>PC 17599</td>\n",
       "      <td>71.2833</td>\n",
       "      <td>C85</td>\n",
       "      <td>C</td>\n",
       "    </tr>\n",
       "    <tr>\n",
       "      <th>2</th>\n",
       "      <td>3</td>\n",
       "      <td>1</td>\n",
       "      <td>3</td>\n",
       "      <td>Heikkinen, Miss. Laina</td>\n",
       "      <td>female</td>\n",
       "      <td>26.0</td>\n",
       "      <td>0</td>\n",
       "      <td>0</td>\n",
       "      <td>STON/O2. 3101282</td>\n",
       "      <td>7.9250</td>\n",
       "      <td>NaN</td>\n",
       "      <td>S</td>\n",
       "    </tr>\n",
       "    <tr>\n",
       "      <th>3</th>\n",
       "      <td>4</td>\n",
       "      <td>1</td>\n",
       "      <td>1</td>\n",
       "      <td>Futrelle, Mrs. Jacques Heath (Lily May Peel)</td>\n",
       "      <td>female</td>\n",
       "      <td>35.0</td>\n",
       "      <td>1</td>\n",
       "      <td>0</td>\n",
       "      <td>113803</td>\n",
       "      <td>53.1000</td>\n",
       "      <td>C123</td>\n",
       "      <td>S</td>\n",
       "    </tr>\n",
       "    <tr>\n",
       "      <th>4</th>\n",
       "      <td>5</td>\n",
       "      <td>0</td>\n",
       "      <td>3</td>\n",
       "      <td>Allen, Mr. William Henry</td>\n",
       "      <td>male</td>\n",
       "      <td>35.0</td>\n",
       "      <td>0</td>\n",
       "      <td>0</td>\n",
       "      <td>373450</td>\n",
       "      <td>8.0500</td>\n",
       "      <td>NaN</td>\n",
       "      <td>S</td>\n",
       "    </tr>\n",
       "    <tr>\n",
       "      <th>...</th>\n",
       "      <td>...</td>\n",
       "      <td>...</td>\n",
       "      <td>...</td>\n",
       "      <td>...</td>\n",
       "      <td>...</td>\n",
       "      <td>...</td>\n",
       "      <td>...</td>\n",
       "      <td>...</td>\n",
       "      <td>...</td>\n",
       "      <td>...</td>\n",
       "      <td>...</td>\n",
       "      <td>...</td>\n",
       "    </tr>\n",
       "    <tr>\n",
       "      <th>886</th>\n",
       "      <td>887</td>\n",
       "      <td>0</td>\n",
       "      <td>2</td>\n",
       "      <td>Montvila, Rev. Juozas</td>\n",
       "      <td>male</td>\n",
       "      <td>27.0</td>\n",
       "      <td>0</td>\n",
       "      <td>0</td>\n",
       "      <td>211536</td>\n",
       "      <td>13.0000</td>\n",
       "      <td>NaN</td>\n",
       "      <td>S</td>\n",
       "    </tr>\n",
       "    <tr>\n",
       "      <th>887</th>\n",
       "      <td>888</td>\n",
       "      <td>1</td>\n",
       "      <td>1</td>\n",
       "      <td>Graham, Miss. Margaret Edith</td>\n",
       "      <td>female</td>\n",
       "      <td>19.0</td>\n",
       "      <td>0</td>\n",
       "      <td>0</td>\n",
       "      <td>112053</td>\n",
       "      <td>30.0000</td>\n",
       "      <td>B42</td>\n",
       "      <td>S</td>\n",
       "    </tr>\n",
       "    <tr>\n",
       "      <th>888</th>\n",
       "      <td>889</td>\n",
       "      <td>0</td>\n",
       "      <td>3</td>\n",
       "      <td>Johnston, Miss. Catherine Helen \"Carrie\"</td>\n",
       "      <td>female</td>\n",
       "      <td>NaN</td>\n",
       "      <td>1</td>\n",
       "      <td>2</td>\n",
       "      <td>W./C. 6607</td>\n",
       "      <td>23.4500</td>\n",
       "      <td>NaN</td>\n",
       "      <td>S</td>\n",
       "    </tr>\n",
       "    <tr>\n",
       "      <th>889</th>\n",
       "      <td>890</td>\n",
       "      <td>1</td>\n",
       "      <td>1</td>\n",
       "      <td>Behr, Mr. Karl Howell</td>\n",
       "      <td>male</td>\n",
       "      <td>26.0</td>\n",
       "      <td>0</td>\n",
       "      <td>0</td>\n",
       "      <td>111369</td>\n",
       "      <td>30.0000</td>\n",
       "      <td>C148</td>\n",
       "      <td>C</td>\n",
       "    </tr>\n",
       "    <tr>\n",
       "      <th>890</th>\n",
       "      <td>891</td>\n",
       "      <td>0</td>\n",
       "      <td>3</td>\n",
       "      <td>Dooley, Mr. Patrick</td>\n",
       "      <td>male</td>\n",
       "      <td>32.0</td>\n",
       "      <td>0</td>\n",
       "      <td>0</td>\n",
       "      <td>370376</td>\n",
       "      <td>7.7500</td>\n",
       "      <td>NaN</td>\n",
       "      <td>Q</td>\n",
       "    </tr>\n",
       "  </tbody>\n",
       "</table>\n",
       "<p>891 rows × 12 columns</p>\n",
       "</div>"
      ],
      "text/plain": [
       "     PassengerId  Survived  Pclass  \\\n",
       "0              1         0       3   \n",
       "1              2         1       1   \n",
       "2              3         1       3   \n",
       "3              4         1       1   \n",
       "4              5         0       3   \n",
       "..           ...       ...     ...   \n",
       "886          887         0       2   \n",
       "887          888         1       1   \n",
       "888          889         0       3   \n",
       "889          890         1       1   \n",
       "890          891         0       3   \n",
       "\n",
       "                                                  Name     Sex   Age  SibSp  \\\n",
       "0                              Braund, Mr. Owen Harris    male  22.0      1   \n",
       "1    Cumings, Mrs. John Bradley (Florence Briggs Th...  female  38.0      1   \n",
       "2                               Heikkinen, Miss. Laina  female  26.0      0   \n",
       "3         Futrelle, Mrs. Jacques Heath (Lily May Peel)  female  35.0      1   \n",
       "4                             Allen, Mr. William Henry    male  35.0      0   \n",
       "..                                                 ...     ...   ...    ...   \n",
       "886                              Montvila, Rev. Juozas    male  27.0      0   \n",
       "887                       Graham, Miss. Margaret Edith  female  19.0      0   \n",
       "888           Johnston, Miss. Catherine Helen \"Carrie\"  female   NaN      1   \n",
       "889                              Behr, Mr. Karl Howell    male  26.0      0   \n",
       "890                                Dooley, Mr. Patrick    male  32.0      0   \n",
       "\n",
       "     Parch            Ticket     Fare Cabin Embarked  \n",
       "0        0         A/5 21171   7.2500   NaN        S  \n",
       "1        0          PC 17599  71.2833   C85        C  \n",
       "2        0  STON/O2. 3101282   7.9250   NaN        S  \n",
       "3        0            113803  53.1000  C123        S  \n",
       "4        0            373450   8.0500   NaN        S  \n",
       "..     ...               ...      ...   ...      ...  \n",
       "886      0            211536  13.0000   NaN        S  \n",
       "887      0            112053  30.0000   B42        S  \n",
       "888      2        W./C. 6607  23.4500   NaN        S  \n",
       "889      0            111369  30.0000  C148        C  \n",
       "890      0            370376   7.7500   NaN        Q  \n",
       "\n",
       "[891 rows x 12 columns]"
      ]
     },
     "execution_count": 1,
     "metadata": {},
     "output_type": "execute_result"
    }
   ],
   "source": [
    "import numpy as np\n",
    "import pandas as pd\n",
    "import seaborn as sns\n",
    "import matplotlib.pyplot as plt\n",
    "\n",
    "\n",
    "titanic = pd.read_csv('train.csv')\n",
    "titanic"
   ]
  },
  {
   "cell_type": "markdown",
   "metadata": {},
   "source": [
    "#### Description of features:\n",
    "PassengerId: Id of each passanger \n",
    "<br> Survived: The status of passanger survived or not. here 0 = not survived, 1 = survived\n",
    "<br> Pclass: Class of passanger based on socio-economic status. here, 1 = Upper, 2 = Middle, 3 = Lower\n",
    "<br> Name: Name of passanger\n",
    "<br> Sex: Gender of passanger. values: male and female.\n",
    "<br> Age: age of passanger\n",
    "<br> SibSp: number of siblings or spouses aboard the Titanic\n",
    "<br> Parch: number of parents or children aboard the Titanic\n",
    "<br> Ticket: Ticket number\n",
    "<br> Fare: fare of passanger\n",
    "<br> Cabin: Cabin number\n",
    "<br> Embarked: port to board a ship. Here C = Cherbourg, Q = Queenstown, S = Southampton"
   ]
  },
  {
   "cell_type": "markdown",
   "metadata": {},
   "source": [
    "## Data Exploaration:"
   ]
  },
  {
   "cell_type": "code",
   "execution_count": 2,
   "metadata": {},
   "outputs": [
    {
     "data": {
      "text/plain": [
       "PassengerId      int64\n",
       "Survived         int64\n",
       "Pclass           int64\n",
       "Name            object\n",
       "Sex             object\n",
       "Age            float64\n",
       "SibSp            int64\n",
       "Parch            int64\n",
       "Ticket          object\n",
       "Fare           float64\n",
       "Cabin           object\n",
       "Embarked        object\n",
       "dtype: object"
      ]
     },
     "execution_count": 2,
     "metadata": {},
     "output_type": "execute_result"
    }
   ],
   "source": [
    "titanic.dtypes"
   ]
  },
  {
   "cell_type": "markdown",
   "metadata": {},
   "source": [
    "#### Check If there is any null values"
   ]
  },
  {
   "cell_type": "code",
   "execution_count": 3,
   "metadata": {},
   "outputs": [
    {
     "data": {
      "text/plain": [
       "PassengerId      0\n",
       "Survived         0\n",
       "Pclass           0\n",
       "Name             0\n",
       "Sex              0\n",
       "Age            177\n",
       "SibSp            0\n",
       "Parch            0\n",
       "Ticket           0\n",
       "Fare             0\n",
       "Cabin          687\n",
       "Embarked         2\n",
       "dtype: int64"
      ]
     },
     "execution_count": 3,
     "metadata": {},
     "output_type": "execute_result"
    }
   ],
   "source": [
    "titanic.isnull().sum()"
   ]
  },
  {
   "cell_type": "markdown",
   "metadata": {},
   "source": [
    "## Data Cleaning"
   ]
  },
  {
   "cell_type": "code",
   "execution_count": 4,
   "metadata": {},
   "outputs": [
    {
     "data": {
      "text/plain": [
       "PassengerId    891\n",
       "Survived       891\n",
       "Pclass         891\n",
       "Name           891\n",
       "Sex            891\n",
       "Age            714\n",
       "SibSp          891\n",
       "Parch          891\n",
       "Ticket         891\n",
       "Fare           891\n",
       "Cabin          204\n",
       "Embarked       889\n",
       "dtype: int64"
      ]
     },
     "execution_count": 4,
     "metadata": {},
     "output_type": "execute_result"
    }
   ],
   "source": [
    "titanic.count()"
   ]
  },
  {
   "cell_type": "code",
   "execution_count": 5,
   "metadata": {},
   "outputs": [],
   "source": [
    "# titanic_test.count()"
   ]
  },
  {
   "cell_type": "markdown",
   "metadata": {},
   "source": [
    "<b>Check If we have any douplicates"
   ]
  },
  {
   "cell_type": "code",
   "execution_count": 6,
   "metadata": {},
   "outputs": [
    {
     "data": {
      "text/plain": [
       "0      False\n",
       "1      False\n",
       "2      False\n",
       "3      False\n",
       "4      False\n",
       "       ...  \n",
       "886    False\n",
       "887    False\n",
       "888    False\n",
       "889    False\n",
       "890    False\n",
       "Length: 891, dtype: bool"
      ]
     },
     "execution_count": 6,
     "metadata": {},
     "output_type": "execute_result"
    }
   ],
   "source": [
    "titanic.duplicated()"
   ]
  },
  {
   "cell_type": "code",
   "execution_count": 7,
   "metadata": {},
   "outputs": [],
   "source": [
    "titanic.drop_duplicates(keep = False, inplace = True) "
   ]
  },
  {
   "cell_type": "markdown",
   "metadata": {},
   "source": [
    "<li> We can see that Age, Cabin and Embarked features have missing value. Handling missing value is very important, because our main purpose is to predict accurate results. Let's see if we have any dependency on missing values. \n",
    "<li>If I remove the missing values then as we can see cabin column has 687 missing values and it is huge data. It might possible that the people who don't have cabin are the crew members.\n",
    "<li> Before we remove any missing values, I want to check correlation between the variables to understand dependancy of variables for target feature known as 'Survived'."
   ]
  },
  {
   "cell_type": "markdown",
   "metadata": {},
   "source": [
    "## Data Cleaning "
   ]
  },
  {
   "cell_type": "markdown",
   "metadata": {},
   "source": [
    "<b> Replace Sex values from string to integer. male = 1 and female = 0 "
   ]
  },
  {
   "cell_type": "code",
   "execution_count": 8,
   "metadata": {},
   "outputs": [
    {
     "data": {
      "text/plain": [
       "array(['male', 'female'], dtype=object)"
      ]
     },
     "execution_count": 8,
     "metadata": {},
     "output_type": "execute_result"
    }
   ],
   "source": [
    "titanic.Sex.unique()"
   ]
  },
  {
   "cell_type": "code",
   "execution_count": 9,
   "metadata": {},
   "outputs": [],
   "source": [
    "titanic = titanic.rename(columns={\"Sex\": \"Gender\"})"
   ]
  },
  {
   "cell_type": "markdown",
   "metadata": {},
   "source": [
    "<b>Convert categorical values into the numeric values"
   ]
  },
  {
   "cell_type": "code",
   "execution_count": 10,
   "metadata": {},
   "outputs": [],
   "source": [
    "titanic[\"Gender\"].replace({\"male\": 1, \"female\": 0}, inplace=True)"
   ]
  },
  {
   "cell_type": "markdown",
   "metadata": {},
   "source": [
    "<b>replace null vaues in  Cabin feature as 0."
   ]
  },
  {
   "cell_type": "code",
   "execution_count": 11,
   "metadata": {},
   "outputs": [],
   "source": [
    "titanic[\"Cabin\"].fillna(\"0\", inplace = True) # Nan might be crew, so we can convert them = 0"
   ]
  },
  {
   "cell_type": "markdown",
   "metadata": {},
   "source": [
    "<b>Extract prefixes from name column and convert them into relevant prefixes, so that we can apply binning process on 'Age' continuous feature "
   ]
  },
  {
   "cell_type": "code",
   "execution_count": 12,
   "metadata": {},
   "outputs": [],
   "source": [
    "# titanic.Age.unique()"
   ]
  },
  {
   "cell_type": "code",
   "execution_count": 13,
   "metadata": {},
   "outputs": [],
   "source": [
    "#Extract the initial of names\n",
    "titanic['Prefix']=0\n",
    "for i in titanic:\n",
    "    titanic['Prefix']=titanic.Name.str.extract('([A-Za-z]+)\\.') "
   ]
  },
  {
   "cell_type": "code",
   "execution_count": 14,
   "metadata": {},
   "outputs": [
    {
     "data": {
      "text/html": [
       "<style  type=\"text/css\" >\n",
       "#T_d1d79d0c_5696_11eb_b679_186590d74fc3row0_col0,#T_d1d79d0c_5696_11eb_b679_186590d74fc3row0_col1,#T_d1d79d0c_5696_11eb_b679_186590d74fc3row0_col3,#T_d1d79d0c_5696_11eb_b679_186590d74fc3row0_col4,#T_d1d79d0c_5696_11eb_b679_186590d74fc3row0_col5,#T_d1d79d0c_5696_11eb_b679_186590d74fc3row0_col7,#T_d1d79d0c_5696_11eb_b679_186590d74fc3row0_col8,#T_d1d79d0c_5696_11eb_b679_186590d74fc3row0_col12,#T_d1d79d0c_5696_11eb_b679_186590d74fc3row0_col15,#T_d1d79d0c_5696_11eb_b679_186590d74fc3row0_col16,#T_d1d79d0c_5696_11eb_b679_186590d74fc3row1_col2,#T_d1d79d0c_5696_11eb_b679_186590d74fc3row1_col6,#T_d1d79d0c_5696_11eb_b679_186590d74fc3row1_col9,#T_d1d79d0c_5696_11eb_b679_186590d74fc3row1_col10,#T_d1d79d0c_5696_11eb_b679_186590d74fc3row1_col11,#T_d1d79d0c_5696_11eb_b679_186590d74fc3row1_col13,#T_d1d79d0c_5696_11eb_b679_186590d74fc3row1_col14{\n",
       "            background-color:  #f7fbff;\n",
       "            color:  #000000;\n",
       "        }#T_d1d79d0c_5696_11eb_b679_186590d74fc3row0_col2,#T_d1d79d0c_5696_11eb_b679_186590d74fc3row0_col6,#T_d1d79d0c_5696_11eb_b679_186590d74fc3row0_col9,#T_d1d79d0c_5696_11eb_b679_186590d74fc3row0_col10,#T_d1d79d0c_5696_11eb_b679_186590d74fc3row0_col11,#T_d1d79d0c_5696_11eb_b679_186590d74fc3row0_col13,#T_d1d79d0c_5696_11eb_b679_186590d74fc3row0_col14,#T_d1d79d0c_5696_11eb_b679_186590d74fc3row1_col0,#T_d1d79d0c_5696_11eb_b679_186590d74fc3row1_col1,#T_d1d79d0c_5696_11eb_b679_186590d74fc3row1_col3,#T_d1d79d0c_5696_11eb_b679_186590d74fc3row1_col4,#T_d1d79d0c_5696_11eb_b679_186590d74fc3row1_col5,#T_d1d79d0c_5696_11eb_b679_186590d74fc3row1_col7,#T_d1d79d0c_5696_11eb_b679_186590d74fc3row1_col8,#T_d1d79d0c_5696_11eb_b679_186590d74fc3row1_col12,#T_d1d79d0c_5696_11eb_b679_186590d74fc3row1_col15,#T_d1d79d0c_5696_11eb_b679_186590d74fc3row1_col16{\n",
       "            background-color:  #08306b;\n",
       "            color:  #f1f1f1;\n",
       "        }</style><table id=\"T_d1d79d0c_5696_11eb_b679_186590d74fc3\" ><thead>    <tr>        <th class=\"index_name level0\" >Prefix</th>        <th class=\"col_heading level0 col0\" >Capt</th>        <th class=\"col_heading level0 col1\" >Col</th>        <th class=\"col_heading level0 col2\" >Countess</th>        <th class=\"col_heading level0 col3\" >Don</th>        <th class=\"col_heading level0 col4\" >Dr</th>        <th class=\"col_heading level0 col5\" >Jonkheer</th>        <th class=\"col_heading level0 col6\" >Lady</th>        <th class=\"col_heading level0 col7\" >Major</th>        <th class=\"col_heading level0 col8\" >Master</th>        <th class=\"col_heading level0 col9\" >Miss</th>        <th class=\"col_heading level0 col10\" >Mlle</th>        <th class=\"col_heading level0 col11\" >Mme</th>        <th class=\"col_heading level0 col12\" >Mr</th>        <th class=\"col_heading level0 col13\" >Mrs</th>        <th class=\"col_heading level0 col14\" >Ms</th>        <th class=\"col_heading level0 col15\" >Rev</th>        <th class=\"col_heading level0 col16\" >Sir</th>    </tr>    <tr>        <th class=\"index_name level0\" >Gender</th>        <th class=\"blank\" ></th>        <th class=\"blank\" ></th>        <th class=\"blank\" ></th>        <th class=\"blank\" ></th>        <th class=\"blank\" ></th>        <th class=\"blank\" ></th>        <th class=\"blank\" ></th>        <th class=\"blank\" ></th>        <th class=\"blank\" ></th>        <th class=\"blank\" ></th>        <th class=\"blank\" ></th>        <th class=\"blank\" ></th>        <th class=\"blank\" ></th>        <th class=\"blank\" ></th>        <th class=\"blank\" ></th>        <th class=\"blank\" ></th>        <th class=\"blank\" ></th>    </tr></thead><tbody>\n",
       "                <tr>\n",
       "                        <th id=\"T_d1d79d0c_5696_11eb_b679_186590d74fc3level0_row0\" class=\"row_heading level0 row0\" >0</th>\n",
       "                        <td id=\"T_d1d79d0c_5696_11eb_b679_186590d74fc3row0_col0\" class=\"data row0 col0\" >0</td>\n",
       "                        <td id=\"T_d1d79d0c_5696_11eb_b679_186590d74fc3row0_col1\" class=\"data row0 col1\" >0</td>\n",
       "                        <td id=\"T_d1d79d0c_5696_11eb_b679_186590d74fc3row0_col2\" class=\"data row0 col2\" >1</td>\n",
       "                        <td id=\"T_d1d79d0c_5696_11eb_b679_186590d74fc3row0_col3\" class=\"data row0 col3\" >0</td>\n",
       "                        <td id=\"T_d1d79d0c_5696_11eb_b679_186590d74fc3row0_col4\" class=\"data row0 col4\" >1</td>\n",
       "                        <td id=\"T_d1d79d0c_5696_11eb_b679_186590d74fc3row0_col5\" class=\"data row0 col5\" >0</td>\n",
       "                        <td id=\"T_d1d79d0c_5696_11eb_b679_186590d74fc3row0_col6\" class=\"data row0 col6\" >1</td>\n",
       "                        <td id=\"T_d1d79d0c_5696_11eb_b679_186590d74fc3row0_col7\" class=\"data row0 col7\" >0</td>\n",
       "                        <td id=\"T_d1d79d0c_5696_11eb_b679_186590d74fc3row0_col8\" class=\"data row0 col8\" >0</td>\n",
       "                        <td id=\"T_d1d79d0c_5696_11eb_b679_186590d74fc3row0_col9\" class=\"data row0 col9\" >182</td>\n",
       "                        <td id=\"T_d1d79d0c_5696_11eb_b679_186590d74fc3row0_col10\" class=\"data row0 col10\" >2</td>\n",
       "                        <td id=\"T_d1d79d0c_5696_11eb_b679_186590d74fc3row0_col11\" class=\"data row0 col11\" >1</td>\n",
       "                        <td id=\"T_d1d79d0c_5696_11eb_b679_186590d74fc3row0_col12\" class=\"data row0 col12\" >0</td>\n",
       "                        <td id=\"T_d1d79d0c_5696_11eb_b679_186590d74fc3row0_col13\" class=\"data row0 col13\" >125</td>\n",
       "                        <td id=\"T_d1d79d0c_5696_11eb_b679_186590d74fc3row0_col14\" class=\"data row0 col14\" >1</td>\n",
       "                        <td id=\"T_d1d79d0c_5696_11eb_b679_186590d74fc3row0_col15\" class=\"data row0 col15\" >0</td>\n",
       "                        <td id=\"T_d1d79d0c_5696_11eb_b679_186590d74fc3row0_col16\" class=\"data row0 col16\" >0</td>\n",
       "            </tr>\n",
       "            <tr>\n",
       "                        <th id=\"T_d1d79d0c_5696_11eb_b679_186590d74fc3level0_row1\" class=\"row_heading level0 row1\" >1</th>\n",
       "                        <td id=\"T_d1d79d0c_5696_11eb_b679_186590d74fc3row1_col0\" class=\"data row1 col0\" >1</td>\n",
       "                        <td id=\"T_d1d79d0c_5696_11eb_b679_186590d74fc3row1_col1\" class=\"data row1 col1\" >2</td>\n",
       "                        <td id=\"T_d1d79d0c_5696_11eb_b679_186590d74fc3row1_col2\" class=\"data row1 col2\" >0</td>\n",
       "                        <td id=\"T_d1d79d0c_5696_11eb_b679_186590d74fc3row1_col3\" class=\"data row1 col3\" >1</td>\n",
       "                        <td id=\"T_d1d79d0c_5696_11eb_b679_186590d74fc3row1_col4\" class=\"data row1 col4\" >6</td>\n",
       "                        <td id=\"T_d1d79d0c_5696_11eb_b679_186590d74fc3row1_col5\" class=\"data row1 col5\" >1</td>\n",
       "                        <td id=\"T_d1d79d0c_5696_11eb_b679_186590d74fc3row1_col6\" class=\"data row1 col6\" >0</td>\n",
       "                        <td id=\"T_d1d79d0c_5696_11eb_b679_186590d74fc3row1_col7\" class=\"data row1 col7\" >2</td>\n",
       "                        <td id=\"T_d1d79d0c_5696_11eb_b679_186590d74fc3row1_col8\" class=\"data row1 col8\" >40</td>\n",
       "                        <td id=\"T_d1d79d0c_5696_11eb_b679_186590d74fc3row1_col9\" class=\"data row1 col9\" >0</td>\n",
       "                        <td id=\"T_d1d79d0c_5696_11eb_b679_186590d74fc3row1_col10\" class=\"data row1 col10\" >0</td>\n",
       "                        <td id=\"T_d1d79d0c_5696_11eb_b679_186590d74fc3row1_col11\" class=\"data row1 col11\" >0</td>\n",
       "                        <td id=\"T_d1d79d0c_5696_11eb_b679_186590d74fc3row1_col12\" class=\"data row1 col12\" >517</td>\n",
       "                        <td id=\"T_d1d79d0c_5696_11eb_b679_186590d74fc3row1_col13\" class=\"data row1 col13\" >0</td>\n",
       "                        <td id=\"T_d1d79d0c_5696_11eb_b679_186590d74fc3row1_col14\" class=\"data row1 col14\" >0</td>\n",
       "                        <td id=\"T_d1d79d0c_5696_11eb_b679_186590d74fc3row1_col15\" class=\"data row1 col15\" >6</td>\n",
       "                        <td id=\"T_d1d79d0c_5696_11eb_b679_186590d74fc3row1_col16\" class=\"data row1 col16\" >1</td>\n",
       "            </tr>\n",
       "    </tbody></table>"
      ],
      "text/plain": [
       "<pandas.io.formats.style.Styler at 0x1020b2acd0>"
      ]
     },
     "execution_count": 14,
     "metadata": {},
     "output_type": "execute_result"
    }
   ],
   "source": [
    "pd.crosstab(titanic.Prefix,titanic.Gender).T.style.background_gradient(cmap='Blues')"
   ]
  },
  {
   "cell_type": "markdown",
   "metadata": {},
   "source": [
    "We can see there are almost 16 prefixes, we can replace Mlle, Mme, Rev, Johkheer, Don, Countess into common prefix like Mrs., Miss, Mr and boy.\n",
    "\n",
    "<br>Here Mr = Capt, Dr, Major, Jankeer, Don, Col, Rev, Mr\n",
    "<br>Mrs = Countess, Lady\n",
    "<br>Miss = Mlle, Mme, Ms\n",
    "<br>Master = Boy"
   ]
  },
  {
   "cell_type": "code",
   "execution_count": 15,
   "metadata": {},
   "outputs": [],
   "source": [
    "titanic['Prefix'] = titanic['Prefix'].replace(['Mlle', 'Mme', 'Ms'], 'Miss')\n",
    "titanic['Prefix'] = titanic['Prefix'].replace(['Lady', 'Countess'], 'Mrs')\n",
    "titanic['Prefix'] = titanic['Prefix'].replace(['Capt', 'Col', 'Don', 'Dr', 'Jonkheer', 'Rev', 'Major', 'Sir'], 'Mr')\n",
    "titanic['Prefix'] = titanic['Prefix'].replace('Master', 'Boy')"
   ]
  },
  {
   "cell_type": "code",
   "execution_count": 16,
   "metadata": {},
   "outputs": [
    {
     "data": {
      "text/html": [
       "<style  type=\"text/css\" >\n",
       "#T_d1f8d738_5696_11eb_b679_186590d74fc3row0_col0,#T_d1f8d738_5696_11eb_b679_186590d74fc3row0_col2,#T_d1f8d738_5696_11eb_b679_186590d74fc3row1_col1,#T_d1f8d738_5696_11eb_b679_186590d74fc3row1_col3{\n",
       "            background-color:  #f7fbff;\n",
       "            color:  #000000;\n",
       "        }#T_d1f8d738_5696_11eb_b679_186590d74fc3row0_col1,#T_d1f8d738_5696_11eb_b679_186590d74fc3row0_col3,#T_d1f8d738_5696_11eb_b679_186590d74fc3row1_col0,#T_d1f8d738_5696_11eb_b679_186590d74fc3row1_col2{\n",
       "            background-color:  #08306b;\n",
       "            color:  #f1f1f1;\n",
       "        }</style><table id=\"T_d1f8d738_5696_11eb_b679_186590d74fc3\" ><thead>    <tr>        <th class=\"index_name level0\" >Prefix</th>        <th class=\"col_heading level0 col0\" >Boy</th>        <th class=\"col_heading level0 col1\" >Miss</th>        <th class=\"col_heading level0 col2\" >Mr</th>        <th class=\"col_heading level0 col3\" >Mrs</th>    </tr>    <tr>        <th class=\"index_name level0\" >Gender</th>        <th class=\"blank\" ></th>        <th class=\"blank\" ></th>        <th class=\"blank\" ></th>        <th class=\"blank\" ></th>    </tr></thead><tbody>\n",
       "                <tr>\n",
       "                        <th id=\"T_d1f8d738_5696_11eb_b679_186590d74fc3level0_row0\" class=\"row_heading level0 row0\" >0</th>\n",
       "                        <td id=\"T_d1f8d738_5696_11eb_b679_186590d74fc3row0_col0\" class=\"data row0 col0\" >0</td>\n",
       "                        <td id=\"T_d1f8d738_5696_11eb_b679_186590d74fc3row0_col1\" class=\"data row0 col1\" >186</td>\n",
       "                        <td id=\"T_d1f8d738_5696_11eb_b679_186590d74fc3row0_col2\" class=\"data row0 col2\" >1</td>\n",
       "                        <td id=\"T_d1f8d738_5696_11eb_b679_186590d74fc3row0_col3\" class=\"data row0 col3\" >127</td>\n",
       "            </tr>\n",
       "            <tr>\n",
       "                        <th id=\"T_d1f8d738_5696_11eb_b679_186590d74fc3level0_row1\" class=\"row_heading level0 row1\" >1</th>\n",
       "                        <td id=\"T_d1f8d738_5696_11eb_b679_186590d74fc3row1_col0\" class=\"data row1 col0\" >40</td>\n",
       "                        <td id=\"T_d1f8d738_5696_11eb_b679_186590d74fc3row1_col1\" class=\"data row1 col1\" >0</td>\n",
       "                        <td id=\"T_d1f8d738_5696_11eb_b679_186590d74fc3row1_col2\" class=\"data row1 col2\" >537</td>\n",
       "                        <td id=\"T_d1f8d738_5696_11eb_b679_186590d74fc3row1_col3\" class=\"data row1 col3\" >0</td>\n",
       "            </tr>\n",
       "    </tbody></table>"
      ],
      "text/plain": [
       "<pandas.io.formats.style.Styler at 0x1a2172b850>"
      ]
     },
     "execution_count": 16,
     "metadata": {},
     "output_type": "execute_result"
    }
   ],
   "source": [
    "pd.crosstab(titanic.Prefix,titanic.Gender).T.style.background_gradient(cmap='Blues')"
   ]
  },
  {
   "cell_type": "markdown",
   "metadata": {},
   "source": [
    "<b> Now lets calcuate the mean of Age based on Prefix column."
   ]
  },
  {
   "cell_type": "code",
   "execution_count": 17,
   "metadata": {},
   "outputs": [
    {
     "data": {
      "text/plain": [
       "Prefix\n",
       "Boy      4.574167\n",
       "Miss    21.860000\n",
       "Mr      33.022727\n",
       "Mrs     35.981818\n",
       "Name: Age, dtype: float64"
      ]
     },
     "execution_count": 17,
     "metadata": {},
     "output_type": "execute_result"
    }
   ],
   "source": [
    "age_mean = titanic.groupby('Prefix')['Age'].mean()\n",
    "age_mean"
   ]
  },
  {
   "cell_type": "markdown",
   "metadata": {},
   "source": [
    "<b> Replace all null values in Age field using mean age of Prefix"
   ]
  },
  {
   "cell_type": "code",
   "execution_count": 18,
   "metadata": {},
   "outputs": [],
   "source": [
    "titanic.loc[(titanic.Age.isnull())&(titanic.Prefix=='Boy'),'Age']= 4.5\n",
    "titanic.loc[(titanic.Age.isnull())&(titanic.Prefix=='Miss'),'Age']=21.8\n",
    "titanic.loc[(titanic.Age.isnull())&(titanic.Prefix=='Mr'),'Age']=33\n",
    "titanic.loc[(titanic.Age.isnull())&(titanic.Prefix=='Mrs'),'Age']=36"
   ]
  },
  {
   "cell_type": "code",
   "execution_count": 19,
   "metadata": {},
   "outputs": [],
   "source": [
    "titanic['Prefix'] = titanic['Prefix'].replace('Miss', 1)\n",
    "titanic['Prefix'] = titanic['Prefix'].replace('Mrs', 2) \n",
    "titanic['Prefix'] = titanic['Prefix'].replace('Mr', 3) \n",
    "titanic['Prefix'] = titanic['Prefix'].replace('Boy', 4) "
   ]
  },
  {
   "cell_type": "code",
   "execution_count": 20,
   "metadata": {},
   "outputs": [],
   "source": [
    "titanic[\"Embarked\"].fillna(\"0\", inplace = True)"
   ]
  },
  {
   "cell_type": "code",
   "execution_count": 21,
   "metadata": {},
   "outputs": [
    {
     "data": {
      "text/plain": [
       "PassengerId    0\n",
       "Survived       0\n",
       "Pclass         0\n",
       "Name           0\n",
       "Gender         0\n",
       "Age            0\n",
       "SibSp          0\n",
       "Parch          0\n",
       "Ticket         0\n",
       "Fare           0\n",
       "Cabin          0\n",
       "Embarked       0\n",
       "Prefix         0\n",
       "dtype: int64"
      ]
     },
     "execution_count": 21,
     "metadata": {},
     "output_type": "execute_result"
    }
   ],
   "source": [
    "titanic.isnull().sum()"
   ]
  },
  {
   "cell_type": "markdown",
   "metadata": {},
   "source": [
    "<b>Replace Embarked values like s = 1, C = 2 and Q = 3"
   ]
  },
  {
   "cell_type": "code",
   "execution_count": 22,
   "metadata": {},
   "outputs": [
    {
     "data": {
      "text/plain": [
       "array(['S', 'C', 'Q', '0'], dtype=object)"
      ]
     },
     "execution_count": 22,
     "metadata": {},
     "output_type": "execute_result"
    }
   ],
   "source": [
    "titanic.Embarked.unique()"
   ]
  },
  {
   "cell_type": "code",
   "execution_count": 23,
   "metadata": {},
   "outputs": [],
   "source": [
    "titanic['Embarked'] = titanic['Embarked'].replace('S', 1)\n",
    "titanic['Embarked'] = titanic['Embarked'].replace('C', 2)\n",
    "titanic['Embarked'] = titanic['Embarked'].replace('Q', 3)\n",
    "titanic[\"Embarked\"].fillna(4, inplace = True)"
   ]
  },
  {
   "cell_type": "code",
   "execution_count": 24,
   "metadata": {},
   "outputs": [],
   "source": [
    "titanic = titanic.astype({\"Embarked\":'int32'})"
   ]
  },
  {
   "cell_type": "code",
   "execution_count": 25,
   "metadata": {},
   "outputs": [],
   "source": [
    "titanic = titanic.drop(['Name'], axis=1)"
   ]
  },
  {
   "cell_type": "code",
   "execution_count": 26,
   "metadata": {},
   "outputs": [],
   "source": [
    "titanic = titanic.drop(['Cabin'], axis=1)"
   ]
  },
  {
   "cell_type": "code",
   "execution_count": 27,
   "metadata": {},
   "outputs": [],
   "source": [
    "titanic = titanic.drop(['Ticket'], axis=1)"
   ]
  },
  {
   "cell_type": "markdown",
   "metadata": {},
   "source": [
    "<b>remove the outliers"
   ]
  },
  {
   "cell_type": "code",
   "execution_count": 28,
   "metadata": {},
   "outputs": [
    {
     "data": {
      "text/plain": [
       "(array([ 58.,  46., 213., 169., 255.,  70.,  45.,  24.,   9.,   2.]),\n",
       " array([ 0.42 ,  8.378, 16.336, 24.294, 32.252, 40.21 , 48.168, 56.126,\n",
       "        64.084, 72.042, 80.   ]),\n",
       " <a list of 10 Patch objects>)"
      ]
     },
     "execution_count": 28,
     "metadata": {},
     "output_type": "execute_result"
    },
    {
     "data": {
      "image/png": "[encoded data removed]",
      "text/plain": [
       "<Figure size 432x288 with 1 Axes>"
      ]
     },
     "metadata": {
      "needs_background": "light"
     },
     "output_type": "display_data"
    }
   ],
   "source": [
    "# check if there are any outliers\n",
    "\n",
    "plt.hist(titanic.Age)"
   ]
  },
  {
   "cell_type": "markdown",
   "metadata": {},
   "source": [
    "<b>As we can see, I have handled all null values in age field, so that we can calcuate accuate results"
   ]
  },
  {
   "cell_type": "markdown",
   "metadata": {},
   "source": [
    "#### <font color='gray'>Binning process for Train Dataset and Test dataset</font>"
   ]
  },
  {
   "cell_type": "markdown",
   "metadata": {},
   "source": [
    "<b>Now we don't know the missing age of passangers and we cannot replace it with 0. Because if we replace with the 0 then it will come under bin = 0 age, which will give us bias results. Therefore to avoid this issue, we can check other column to identify the age of passanger. "
   ]
  },
  {
   "cell_type": "code",
   "execution_count": 29,
   "metadata": {},
   "outputs": [],
   "source": [
    "# titanic.loc[ titanic['Age'] <= 16, 'Age'] = 1\n",
    "# titanic.loc[(titanic['Age'] > 16) & (titanic['Age'] <= 32), 'Age'] = 2\n",
    "# titanic.loc[(titanic['Age'] > 32) & (titanic['Age'] <= 48), 'Age'] = 3\n",
    "# titanic.loc[(titanic['Age'] > 48) & (titanic['Age'] <= 64), 'Age'] = 4\n",
    "# titanic.loc[ titanic['Age'] > 64, 'Age'] = 5\n",
    "# titanic.Age.unique()"
   ]
  },
  {
   "cell_type": "code",
   "execution_count": 30,
   "metadata": {},
   "outputs": [],
   "source": [
    "# titanic.loc[ titanic['Fare'] <= 7.91, 'Fare']  = 1\n",
    "# titanic.loc[(titanic['Fare'] > 7.91) & (titanic['Fare'] <= 14.454), 'Fare'] = 2\n",
    "# titanic.loc[(titanic['Fare'] > 14.454) & (titanic['Fare'] <= 31), 'Fare']   = 3\n",
    "# titanic.loc[ titanic['Fare'] > 31, 'Fare'] = 4"
   ]
  },
  {
   "cell_type": "code",
   "execution_count": 31,
   "metadata": {},
   "outputs": [
    {
     "data": {
      "text/html": [
       "<div>\n",
       "<style scoped>\n",
       "    .dataframe tbody tr th:only-of-type {\n",
       "        vertical-align: middle;\n",
       "    }\n",
       "\n",
       "    .dataframe tbody tr th {\n",
       "        vertical-align: top;\n",
       "    }\n",
       "\n",
       "    .dataframe thead th {\n",
       "        text-align: right;\n",
       "    }\n",
       "</style>\n",
       "<table border=\"1\" class=\"dataframe\">\n",
       "  <thead>\n",
       "    <tr style=\"text-align: right;\">\n",
       "      <th></th>\n",
       "      <th>PassengerId</th>\n",
       "      <th>Survived</th>\n",
       "      <th>Pclass</th>\n",
       "      <th>Gender</th>\n",
       "      <th>Age</th>\n",
       "      <th>SibSp</th>\n",
       "      <th>Parch</th>\n",
       "      <th>Fare</th>\n",
       "      <th>Embarked</th>\n",
       "      <th>Prefix</th>\n",
       "    </tr>\n",
       "  </thead>\n",
       "  <tbody>\n",
       "    <tr>\n",
       "      <th>0</th>\n",
       "      <td>1</td>\n",
       "      <td>0</td>\n",
       "      <td>3</td>\n",
       "      <td>1</td>\n",
       "      <td>22.0</td>\n",
       "      <td>1</td>\n",
       "      <td>0</td>\n",
       "      <td>7.2500</td>\n",
       "      <td>1</td>\n",
       "      <td>3</td>\n",
       "    </tr>\n",
       "    <tr>\n",
       "      <th>1</th>\n",
       "      <td>2</td>\n",
       "      <td>1</td>\n",
       "      <td>1</td>\n",
       "      <td>0</td>\n",
       "      <td>38.0</td>\n",
       "      <td>1</td>\n",
       "      <td>0</td>\n",
       "      <td>71.2833</td>\n",
       "      <td>2</td>\n",
       "      <td>2</td>\n",
       "    </tr>\n",
       "    <tr>\n",
       "      <th>2</th>\n",
       "      <td>3</td>\n",
       "      <td>1</td>\n",
       "      <td>3</td>\n",
       "      <td>0</td>\n",
       "      <td>26.0</td>\n",
       "      <td>0</td>\n",
       "      <td>0</td>\n",
       "      <td>7.9250</td>\n",
       "      <td>1</td>\n",
       "      <td>1</td>\n",
       "    </tr>\n",
       "    <tr>\n",
       "      <th>3</th>\n",
       "      <td>4</td>\n",
       "      <td>1</td>\n",
       "      <td>1</td>\n",
       "      <td>0</td>\n",
       "      <td>35.0</td>\n",
       "      <td>1</td>\n",
       "      <td>0</td>\n",
       "      <td>53.1000</td>\n",
       "      <td>1</td>\n",
       "      <td>2</td>\n",
       "    </tr>\n",
       "    <tr>\n",
       "      <th>4</th>\n",
       "      <td>5</td>\n",
       "      <td>0</td>\n",
       "      <td>3</td>\n",
       "      <td>1</td>\n",
       "      <td>35.0</td>\n",
       "      <td>0</td>\n",
       "      <td>0</td>\n",
       "      <td>8.0500</td>\n",
       "      <td>1</td>\n",
       "      <td>3</td>\n",
       "    </tr>\n",
       "    <tr>\n",
       "      <th>...</th>\n",
       "      <td>...</td>\n",
       "      <td>...</td>\n",
       "      <td>...</td>\n",
       "      <td>...</td>\n",
       "      <td>...</td>\n",
       "      <td>...</td>\n",
       "      <td>...</td>\n",
       "      <td>...</td>\n",
       "      <td>...</td>\n",
       "      <td>...</td>\n",
       "    </tr>\n",
       "    <tr>\n",
       "      <th>886</th>\n",
       "      <td>887</td>\n",
       "      <td>0</td>\n",
       "      <td>2</td>\n",
       "      <td>1</td>\n",
       "      <td>27.0</td>\n",
       "      <td>0</td>\n",
       "      <td>0</td>\n",
       "      <td>13.0000</td>\n",
       "      <td>1</td>\n",
       "      <td>3</td>\n",
       "    </tr>\n",
       "    <tr>\n",
       "      <th>887</th>\n",
       "      <td>888</td>\n",
       "      <td>1</td>\n",
       "      <td>1</td>\n",
       "      <td>0</td>\n",
       "      <td>19.0</td>\n",
       "      <td>0</td>\n",
       "      <td>0</td>\n",
       "      <td>30.0000</td>\n",
       "      <td>1</td>\n",
       "      <td>1</td>\n",
       "    </tr>\n",
       "    <tr>\n",
       "      <th>888</th>\n",
       "      <td>889</td>\n",
       "      <td>0</td>\n",
       "      <td>3</td>\n",
       "      <td>0</td>\n",
       "      <td>21.8</td>\n",
       "      <td>1</td>\n",
       "      <td>2</td>\n",
       "      <td>23.4500</td>\n",
       "      <td>1</td>\n",
       "      <td>1</td>\n",
       "    </tr>\n",
       "    <tr>\n",
       "      <th>889</th>\n",
       "      <td>890</td>\n",
       "      <td>1</td>\n",
       "      <td>1</td>\n",
       "      <td>1</td>\n",
       "      <td>26.0</td>\n",
       "      <td>0</td>\n",
       "      <td>0</td>\n",
       "      <td>30.0000</td>\n",
       "      <td>2</td>\n",
       "      <td>3</td>\n",
       "    </tr>\n",
       "    <tr>\n",
       "      <th>890</th>\n",
       "      <td>891</td>\n",
       "      <td>0</td>\n",
       "      <td>3</td>\n",
       "      <td>1</td>\n",
       "      <td>32.0</td>\n",
       "      <td>0</td>\n",
       "      <td>0</td>\n",
       "      <td>7.7500</td>\n",
       "      <td>3</td>\n",
       "      <td>3</td>\n",
       "    </tr>\n",
       "  </tbody>\n",
       "</table>\n",
       "<p>891 rows × 10 columns</p>\n",
       "</div>"
      ],
      "text/plain": [
       "     PassengerId  Survived  Pclass  Gender   Age  SibSp  Parch     Fare  \\\n",
       "0              1         0       3       1  22.0      1      0   7.2500   \n",
       "1              2         1       1       0  38.0      1      0  71.2833   \n",
       "2              3         1       3       0  26.0      0      0   7.9250   \n",
       "3              4         1       1       0  35.0      1      0  53.1000   \n",
       "4              5         0       3       1  35.0      0      0   8.0500   \n",
       "..           ...       ...     ...     ...   ...    ...    ...      ...   \n",
       "886          887         0       2       1  27.0      0      0  13.0000   \n",
       "887          888         1       1       0  19.0      0      0  30.0000   \n",
       "888          889         0       3       0  21.8      1      2  23.4500   \n",
       "889          890         1       1       1  26.0      0      0  30.0000   \n",
       "890          891         0       3       1  32.0      0      0   7.7500   \n",
       "\n",
       "     Embarked  Prefix  \n",
       "0           1       3  \n",
       "1           2       2  \n",
       "2           1       1  \n",
       "3           1       2  \n",
       "4           1       3  \n",
       "..        ...     ...  \n",
       "886         1       3  \n",
       "887         1       1  \n",
       "888         1       1  \n",
       "889         2       3  \n",
       "890         3       3  \n",
       "\n",
       "[891 rows x 10 columns]"
      ]
     },
     "execution_count": 31,
     "metadata": {},
     "output_type": "execute_result"
    }
   ],
   "source": [
    "titanic"
   ]
  },
  {
   "cell_type": "markdown",
   "metadata": {},
   "source": [
    "## Data Visualization"
   ]
  },
  {
   "cell_type": "markdown",
   "metadata": {},
   "source": [
    "<b>Passanger Survived based Class"
   ]
  },
  {
   "cell_type": "code",
   "execution_count": 32,
   "metadata": {},
   "outputs": [
    {
     "name": "stdout",
     "output_type": "stream",
     "text": [
      "Pclass\n",
      "3    491\n",
      "1    216\n",
      "2    184\n",
      "Name: Survived, dtype: int64\n"
     ]
    }
   ],
   "source": [
    "titanic1 = titanic.loc[titanic['Survived'] == 1] \n",
    "\n",
    "titanic2 = (titanic.groupby('Pclass')['Survived'].count()).sort_values(ascending = False)\n",
    "print(titanic2)\n",
    "\n",
    "titanic3 = titanic['Pclass'].unique()"
   ]
  },
  {
   "cell_type": "code",
   "execution_count": 33,
   "metadata": {},
   "outputs": [
    {
     "data": {
      "image/png": "[encoded data removed]",
      "text/plain": [
       "<Figure size 720x720 with 1 Axes>"
      ]
     },
     "metadata": {
      "needs_background": "light"
     },
     "output_type": "display_data"
    }
   ],
   "source": [
    "plt.title('Passanger class survived on Titanic Ship', \n",
    "          fontsize= 20)\n",
    "\n",
    "titanic2.plot(kind = 'bar', figsize=(10,10), color=['slateblue', 'skyblue', 'orange'])\n",
    "\n",
    "colors = {'First Class':'skyblue', 'Secon Class': 'orange', 'Third Class':'slateblue'}         \n",
    "labels = list(colors.keys())\n",
    "handles = [plt.Rectangle((0,0),1,1, color=colors[label]) for label in labels]\n",
    "plt.legend(handles, labels)\n",
    "plt.xticks([0,1,2], [\"Third Class\", \"First Class\", \"Second Class\"])\n",
    "\n",
    "y = [491, 216, 184]\n",
    "for i, v in enumerate(y):\n",
    "    plt.text(i, v + 0.01, str(v))"
   ]
  },
  {
   "cell_type": "markdown",
   "metadata": {},
   "source": [
    "<b> Percentage of passanger survived and died on Titanic Ship"
   ]
  },
  {
   "cell_type": "code",
   "execution_count": 34,
   "metadata": {},
   "outputs": [
    {
     "name": "stdout",
     "output_type": "stream",
     "text": [
      "Survived\n",
      "0    549\n",
      "1    342\n",
      "Name: Survived, dtype: int64\n"
     ]
    },
    {
     "data": {
      "text/plain": [
       "<matplotlib.legend.Legend at 0x1a22e44f50>"
      ]
     },
     "execution_count": 34,
     "metadata": {},
     "output_type": "execute_result"
    },
    {
     "data": {
      "image/png": "[encoded data removed]",
      "text/plain": [
       "<Figure size 1080x720 with 1 Axes>"
      ]
     },
     "metadata": {},
     "output_type": "display_data"
    }
   ],
   "source": [
    "titanics1 = titanic.loc[titanic['Survived']] # survived = 1, died = 0\n",
    "titanics = (titanics1.groupby('Survived')['Survived'].count()).sort_values(ascending = False)\n",
    "print(titanics)\n",
    "\n",
    "import matplotlib.pyplot as plt\n",
    "plt.rcParams['font.size'] = 15\n",
    "\n",
    "plt.title('Passangers died and survived on the Titanic Ship in percentage', \n",
    "          fontsize= 20)\n",
    "\n",
    "gender = ['died', 'survived']\n",
    "titanics.plot(kind = 'pie', figsize=(15,10), shadow = True, explode = (0.1, 0), \n",
    "                    autopct = '%1.1f%%',labels = gender, colors = ['red', 'green'], fontsize= 15);\n",
    "\n",
    "colors = {'died': 'red', 'survived':'green'}         \n",
    "labels = list(colors.keys())\n",
    "handles = [plt.Rectangle((0,0),1,1, color=colors[label]) for label in labels]\n",
    "plt.legend(handles, labels, loc='upper right')"
   ]
  },
  {
   "cell_type": "markdown",
   "metadata": {},
   "source": [
    "<b>total Male vs Female on Titanic Cruise in percentage"
   ]
  },
  {
   "cell_type": "code",
   "execution_count": 35,
   "metadata": {},
   "outputs": [
    {
     "data": {
      "text/plain": [
       "1    577\n",
       "0    314\n",
       "Name: Gender, dtype: int64"
      ]
     },
     "execution_count": 35,
     "metadata": {},
     "output_type": "execute_result"
    }
   ],
   "source": [
    "titanic['Gender'].value_counts() # 1 = male, 0 = female"
   ]
  },
  {
   "cell_type": "code",
   "execution_count": 36,
   "metadata": {},
   "outputs": [],
   "source": [
    "titanic11 = titanic.loc[titanic['Gender']] \n",
    "\n",
    "titanic22 = (titanic11.groupby('Survived')['Gender'].count()).sort_values(ascending = False)\n",
    "\n",
    "titanic33 = titanic['Gender'].unique()"
   ]
  },
  {
   "cell_type": "code",
   "execution_count": 37,
   "metadata": {},
   "outputs": [
    {
     "data": {
      "text/plain": [
       "<matplotlib.legend.Legend at 0x1a2302bcd0>"
      ]
     },
     "execution_count": 37,
     "metadata": {},
     "output_type": "execute_result"
    },
    {
     "data": {
      "image/png": "[encoded data removed]",
      "text/plain": [
       "<Figure size 1080x720 with 1 Axes>"
      ]
     },
     "metadata": {},
     "output_type": "display_data"
    }
   ],
   "source": [
    "import matplotlib.pyplot as plt\n",
    "plt.rcParams['font.size'] = 15\n",
    "\n",
    "plt.title('Male died and survived on the Titanic Ship in percentage', \n",
    "          fontsize= 20)\n",
    "\n",
    "gender = ['male', 'female']\n",
    "titanic22.plot(kind = 'pie', figsize=(15,10), shadow = True, explode = (0.1, 0), \n",
    "                    autopct = '%1.1f%%',labels = gender, colors = ['skyblue', 'pink'], fontsize= 15);\n",
    "\n",
    "colors = {'male':'skyblue', 'female': 'pink'}         \n",
    "labels = list(colors.keys())\n",
    "handles = [plt.Rectangle((0,0),1,1, color=colors[label]) for label in labels]\n",
    "plt.legend(handles, labels, loc='upper right')\n"
   ]
  },
  {
   "cell_type": "markdown",
   "metadata": {},
   "source": [
    "<b>Male died and survived on Titanic Ship"
   ]
  },
  {
   "cell_type": "code",
   "execution_count": 38,
   "metadata": {},
   "outputs": [
    {
     "name": "stdout",
     "output_type": "stream",
     "text": [
      "Survived\n",
      "0    468\n",
      "1    109\n",
      "Name: Gender, dtype: int64\n"
     ]
    }
   ],
   "source": [
    "titanic31 = titanic.loc[titanic['Gender'] == 1] #male = 1\n",
    "\n",
    "titanic32 = (titanic31.groupby('Survived')['Gender'].count()).sort_values(ascending = False)\n",
    "print(titanic32)\n",
    "\n",
    "titanic33 = titanic['Gender'].unique()"
   ]
  },
  {
   "cell_type": "code",
   "execution_count": 39,
   "metadata": {},
   "outputs": [
    {
     "data": {
      "text/plain": [
       "<matplotlib.legend.Legend at 0x1a2302bc90>"
      ]
     },
     "execution_count": 39,
     "metadata": {},
     "output_type": "execute_result"
    },
    {
     "data": {
      "image/png": "[encoded data removed]",
      "text/plain": [
       "<Figure size 1080x720 with 1 Axes>"
      ]
     },
     "metadata": {},
     "output_type": "display_data"
    }
   ],
   "source": [
    "import matplotlib.pyplot as plt\n",
    "plt.rcParams['font.size'] = 15\n",
    "\n",
    "plt.title('Male died and survived on the Titanic Ship in percentage', \n",
    "          fontsize= 20)\n",
    "\n",
    "gender = ['Male died', ' Male survived']\n",
    "titanic32.plot(kind = 'pie', figsize=(15,10), shadow = True, explode = (0.1, 0), \n",
    "                    autopct = '%1.1f%%',labels = gender, colors = ['maroon', 'olive'], fontsize= 15);\n",
    "\n",
    "colors = {'died':'maroon', 'survived': 'olive'}         \n",
    "labels = list(colors.keys())\n",
    "handles = [plt.Rectangle((0,0),1,1, color=colors[label]) for label in labels]\n",
    "plt.legend(handles, labels, loc='upper right')"
   ]
  },
  {
   "cell_type": "markdown",
   "metadata": {},
   "source": [
    "<b>Female died and survived on the Titanic Ship"
   ]
  },
  {
   "cell_type": "code",
   "execution_count": 40,
   "metadata": {},
   "outputs": [
    {
     "name": "stdout",
     "output_type": "stream",
     "text": [
      "Survived\n",
      "1    233\n",
      "0     81\n",
      "Name: Gender, dtype: int64\n"
     ]
    }
   ],
   "source": [
    "titanic41 = titanic.loc[titanic['Gender'] == 0] #female = 1\n",
    "\n",
    "titanic42 = (titanic41.groupby('Survived')['Gender'].count()).sort_values(ascending = False)\n",
    "print(titanic42)\n",
    "\n",
    "titanic43 = titanic['Gender'].unique()"
   ]
  },
  {
   "cell_type": "code",
   "execution_count": 41,
   "metadata": {},
   "outputs": [
    {
     "data": {
      "text/plain": [
       "<matplotlib.legend.Legend at 0x1a23690510>"
      ]
     },
     "execution_count": 41,
     "metadata": {},
     "output_type": "execute_result"
    },
    {
     "data": {
      "image/png": "[encoded data removed]",
      "text/plain": [
       "<Figure size 1080x720 with 1 Axes>"
      ]
     },
     "metadata": {},
     "output_type": "display_data"
    }
   ],
   "source": [
    "import matplotlib.pyplot as plt\n",
    "plt.rcParams['font.size'] = 15\n",
    "\n",
    "plt.title('female died and survived on the Titanic Ship in percentage', \n",
    "          fontsize= 15)\n",
    "\n",
    "gender = ['Female died', 'Female survived']\n",
    "titanic42.plot(kind = 'pie', figsize=(15,10), shadow = True, explode = (0.1, 0), \n",
    "                    autopct = '%1.1f%%',labels = gender, colors = ['maroon', 'pink'], fontsize= 15);\n",
    "\n",
    "colors = {'died':'maroon', 'survived': 'olive'}         \n",
    "labels = list(colors.keys())\n",
    "handles = [plt.Rectangle((0,0),1,1, color=colors[label]) for label in labels]\n",
    "plt.legend(handles, labels, loc='upper right')"
   ]
  },
  {
   "cell_type": "code",
   "execution_count": 42,
   "metadata": {},
   "outputs": [
    {
     "data": {
      "text/plain": [
       "Text(0.5, 1.0, 'People survived, who were with their family and those who was single')"
      ]
     },
     "execution_count": 42,
     "metadata": {},
     "output_type": "execute_result"
    },
    {
     "data": {
      "image/png": "[encoded data removed]",
      "text/plain": [
       "<Figure size 432x288 with 1 Axes>"
      ]
     },
     "metadata": {
      "needs_background": "light"
     },
     "output_type": "display_data"
    }
   ],
   "source": [
    "# people with the family and survived\n",
    "family = titanic[(titanic['Survived'] == 1) & (titanic['SibSp'] == 1) & (titanic['Parch'] == 1)]['PassengerId'].count()\n",
    "\n",
    "# people who was single on titanic survived\n",
    "single = titanic['PassengerId'].count() - family\n",
    "plt.bar(['Family', 'Sinlge'], [family, single])\n",
    "plt.title(\"People survived, who were with their family and those who was single\")"
   ]
  },
  {
   "cell_type": "markdown",
   "metadata": {},
   "source": [
    "#### Correlation between variables"
   ]
  },
  {
   "cell_type": "code",
   "execution_count": 43,
   "metadata": {},
   "outputs": [
    {
     "data": {
      "image/png": "[encoded data removed]",
      "text/plain": [
       "<Figure size 1080x1080 with 2 Axes>"
      ]
     },
     "metadata": {
      "needs_background": "light"
     },
     "output_type": "display_data"
    }
   ],
   "source": [
    "import matplotlib.pyplot as plt\n",
    "import seaborn as sns\n",
    "\n",
    "corr = titanic.corr()\n",
    "\n",
    "# upper triangle\n",
    "mask = np.zeros_like(corr, dtype=np.bool)\n",
    "mask[np.triu_indices_from(mask)] = True\n",
    "\n",
    "# Set up the matplotlib figure\n",
    "fig, ax = plt.subplots(figsize=(15, 15))\n",
    "\n",
    "sns.set(font_scale=1.8)\n",
    "\n",
    "# Generate a custom diverging colourmap\n",
    "cmap = sns.diverging_palette(220, 10, as_cmap=True)\n",
    "\n",
    "# Draw the heatmap with the mask and correct aspect ratio\n",
    "sns.heatmap(\n",
    "    corr, mask=mask, cmap=cmap, vmax=.5, center=0,\n",
    "    square=True, linewidths=.5, cbar_kws={\"shrink\": .5},\n",
    "    annot=True, annot_kws={\"fontsize\":15}\n",
    ")\n",
    "sns.set(font_scale=1.8)\n",
    "ax.set_title('Correlation Heatmap of the Train Dataset')\n",
    "\n",
    "plt.show()\n"
   ]
  },
  {
   "cell_type": "markdown",
   "metadata": {},
   "source": [
    "<b>Move Target feature at the end of columns."
   ]
  },
  {
   "cell_type": "code",
   "execution_count": 44,
   "metadata": {},
   "outputs": [],
   "source": [
    "titanic = titanic[['PassengerId', 'Pclass', 'Gender', 'Age', 'SibSp', 'Parch', 'Fare', 'Embarked', 'Prefix', 'Survived']]"
   ]
  },
  {
   "cell_type": "code",
   "execution_count": 45,
   "metadata": {},
   "outputs": [
    {
     "data": {
      "text/html": [
       "<div>\n",
       "<style scoped>\n",
       "    .dataframe tbody tr th:only-of-type {\n",
       "        vertical-align: middle;\n",
       "    }\n",
       "\n",
       "    .dataframe tbody tr th {\n",
       "        vertical-align: top;\n",
       "    }\n",
       "\n",
       "    .dataframe thead th {\n",
       "        text-align: right;\n",
       "    }\n",
       "</style>\n",
       "<table border=\"1\" class=\"dataframe\">\n",
       "  <thead>\n",
       "    <tr style=\"text-align: right;\">\n",
       "      <th></th>\n",
       "      <th>PassengerId</th>\n",
       "      <th>Pclass</th>\n",
       "      <th>Gender</th>\n",
       "      <th>Age</th>\n",
       "      <th>SibSp</th>\n",
       "      <th>Parch</th>\n",
       "      <th>Fare</th>\n",
       "      <th>Embarked</th>\n",
       "      <th>Prefix</th>\n",
       "      <th>Survived</th>\n",
       "    </tr>\n",
       "  </thead>\n",
       "  <tbody>\n",
       "    <tr>\n",
       "      <th>0</th>\n",
       "      <td>1</td>\n",
       "      <td>3</td>\n",
       "      <td>1</td>\n",
       "      <td>22.0</td>\n",
       "      <td>1</td>\n",
       "      <td>0</td>\n",
       "      <td>7.2500</td>\n",
       "      <td>1</td>\n",
       "      <td>3</td>\n",
       "      <td>0</td>\n",
       "    </tr>\n",
       "    <tr>\n",
       "      <th>1</th>\n",
       "      <td>2</td>\n",
       "      <td>1</td>\n",
       "      <td>0</td>\n",
       "      <td>38.0</td>\n",
       "      <td>1</td>\n",
       "      <td>0</td>\n",
       "      <td>71.2833</td>\n",
       "      <td>2</td>\n",
       "      <td>2</td>\n",
       "      <td>1</td>\n",
       "    </tr>\n",
       "    <tr>\n",
       "      <th>2</th>\n",
       "      <td>3</td>\n",
       "      <td>3</td>\n",
       "      <td>0</td>\n",
       "      <td>26.0</td>\n",
       "      <td>0</td>\n",
       "      <td>0</td>\n",
       "      <td>7.9250</td>\n",
       "      <td>1</td>\n",
       "      <td>1</td>\n",
       "      <td>1</td>\n",
       "    </tr>\n",
       "    <tr>\n",
       "      <th>3</th>\n",
       "      <td>4</td>\n",
       "      <td>1</td>\n",
       "      <td>0</td>\n",
       "      <td>35.0</td>\n",
       "      <td>1</td>\n",
       "      <td>0</td>\n",
       "      <td>53.1000</td>\n",
       "      <td>1</td>\n",
       "      <td>2</td>\n",
       "      <td>1</td>\n",
       "    </tr>\n",
       "    <tr>\n",
       "      <th>4</th>\n",
       "      <td>5</td>\n",
       "      <td>3</td>\n",
       "      <td>1</td>\n",
       "      <td>35.0</td>\n",
       "      <td>0</td>\n",
       "      <td>0</td>\n",
       "      <td>8.0500</td>\n",
       "      <td>1</td>\n",
       "      <td>3</td>\n",
       "      <td>0</td>\n",
       "    </tr>\n",
       "    <tr>\n",
       "      <th>...</th>\n",
       "      <td>...</td>\n",
       "      <td>...</td>\n",
       "      <td>...</td>\n",
       "      <td>...</td>\n",
       "      <td>...</td>\n",
       "      <td>...</td>\n",
       "      <td>...</td>\n",
       "      <td>...</td>\n",
       "      <td>...</td>\n",
       "      <td>...</td>\n",
       "    </tr>\n",
       "    <tr>\n",
       "      <th>886</th>\n",
       "      <td>887</td>\n",
       "      <td>2</td>\n",
       "      <td>1</td>\n",
       "      <td>27.0</td>\n",
       "      <td>0</td>\n",
       "      <td>0</td>\n",
       "      <td>13.0000</td>\n",
       "      <td>1</td>\n",
       "      <td>3</td>\n",
       "      <td>0</td>\n",
       "    </tr>\n",
       "    <tr>\n",
       "      <th>887</th>\n",
       "      <td>888</td>\n",
       "      <td>1</td>\n",
       "      <td>0</td>\n",
       "      <td>19.0</td>\n",
       "      <td>0</td>\n",
       "      <td>0</td>\n",
       "      <td>30.0000</td>\n",
       "      <td>1</td>\n",
       "      <td>1</td>\n",
       "      <td>1</td>\n",
       "    </tr>\n",
       "    <tr>\n",
       "      <th>888</th>\n",
       "      <td>889</td>\n",
       "      <td>3</td>\n",
       "      <td>0</td>\n",
       "      <td>21.8</td>\n",
       "      <td>1</td>\n",
       "      <td>2</td>\n",
       "      <td>23.4500</td>\n",
       "      <td>1</td>\n",
       "      <td>1</td>\n",
       "      <td>0</td>\n",
       "    </tr>\n",
       "    <tr>\n",
       "      <th>889</th>\n",
       "      <td>890</td>\n",
       "      <td>1</td>\n",
       "      <td>1</td>\n",
       "      <td>26.0</td>\n",
       "      <td>0</td>\n",
       "      <td>0</td>\n",
       "      <td>30.0000</td>\n",
       "      <td>2</td>\n",
       "      <td>3</td>\n",
       "      <td>1</td>\n",
       "    </tr>\n",
       "    <tr>\n",
       "      <th>890</th>\n",
       "      <td>891</td>\n",
       "      <td>3</td>\n",
       "      <td>1</td>\n",
       "      <td>32.0</td>\n",
       "      <td>0</td>\n",
       "      <td>0</td>\n",
       "      <td>7.7500</td>\n",
       "      <td>3</td>\n",
       "      <td>3</td>\n",
       "      <td>0</td>\n",
       "    </tr>\n",
       "  </tbody>\n",
       "</table>\n",
       "<p>891 rows × 10 columns</p>\n",
       "</div>"
      ],
      "text/plain": [
       "     PassengerId  Pclass  Gender   Age  SibSp  Parch     Fare  Embarked  \\\n",
       "0              1       3       1  22.0      1      0   7.2500         1   \n",
       "1              2       1       0  38.0      1      0  71.2833         2   \n",
       "2              3       3       0  26.0      0      0   7.9250         1   \n",
       "3              4       1       0  35.0      1      0  53.1000         1   \n",
       "4              5       3       1  35.0      0      0   8.0500         1   \n",
       "..           ...     ...     ...   ...    ...    ...      ...       ...   \n",
       "886          887       2       1  27.0      0      0  13.0000         1   \n",
       "887          888       1       0  19.0      0      0  30.0000         1   \n",
       "888          889       3       0  21.8      1      2  23.4500         1   \n",
       "889          890       1       1  26.0      0      0  30.0000         2   \n",
       "890          891       3       1  32.0      0      0   7.7500         3   \n",
       "\n",
       "     Prefix  Survived  \n",
       "0         3         0  \n",
       "1         2         1  \n",
       "2         1         1  \n",
       "3         2         1  \n",
       "4         3         0  \n",
       "..      ...       ...  \n",
       "886       3         0  \n",
       "887       1         1  \n",
       "888       1         0  \n",
       "889       3         1  \n",
       "890       3         0  \n",
       "\n",
       "[891 rows x 10 columns]"
      ]
     },
     "execution_count": 45,
     "metadata": {},
     "output_type": "execute_result"
    }
   ],
   "source": [
    "titanic"
   ]
  },
  {
   "cell_type": "markdown",
   "metadata": {},
   "source": [
    "## Build Model - Decision Tree"
   ]
  },
  {
   "cell_type": "code",
   "execution_count": 50,
   "metadata": {},
   "outputs": [],
   "source": [
    "# before we start spliting dataset into train and test, we need to shuffle it well.\n",
    "titanic = titanic.sample(frac = 1)\n",
    "\n",
    "# convert it into the list format, because we are not using predefined libraries to split the data\n",
    "titanic_list_train = titanic.values.tolist()"
   ]
  },
  {
   "cell_type": "markdown",
   "metadata": {},
   "source": [
    "<b>Split the data into traning and testing set manually without using any libraries"
   ]
  },
  {
   "cell_type": "code",
   "execution_count": 51,
   "metadata": {},
   "outputs": [],
   "source": [
    "titanic_train = titanic_list_train[0:712]\n",
    "titanic_test = titanic_list_train[712:891]"
   ]
  },
  {
   "cell_type": "code",
   "execution_count": 52,
   "metadata": {},
   "outputs": [],
   "source": [
    "#check if feature is numeric value or not\n",
    "def is_numeric_val(data):\n",
    "    \n",
    "    # return if value is integer or float, it means variable contains numeric data\n",
    "    return isinstance(data, float) or isinstance(data, int)\n",
    "\n",
    "#return the labels \n",
    "def label_count(data):\n",
    "    cnt = {}\n",
    "    for row in data:\n",
    "        # row[-1] means the last row of that perticular column\n",
    "        label = row[-1]  \n",
    "        \n",
    "        if label not in cnt:\n",
    "            cnt[label] = 0\n",
    "        cnt[label] += 1\n",
    "        \n",
    "    return cnt\n",
    "\n",
    "# count how many distict values in the feature\n",
    "def distinct_values(rows, columns):\n",
    "    \n",
    "    # set always return distinct list values. Therefore we have userd set here\n",
    "    return set([row[column] for row in rows]) "
   ]
  },
  {
   "cell_type": "code",
   "execution_count": 53,
   "metadata": {},
   "outputs": [],
   "source": [
    "# which question should we ask in the root node?\n",
    "class Ask_Question:\n",
    "    def __init__(self, column, value):\n",
    "        self.column = column\n",
    "        self.value = value\n",
    "    \n",
    "    def match(self, instance):\n",
    "        value = instance[self.column]\n",
    "        \n",
    "        if is_numeric_val(value):\n",
    "            return value >= self.value\n",
    "        else:\n",
    "            return value == self.value"
   ]
  },
  {
   "cell_type": "code",
   "execution_count": 54,
   "metadata": {},
   "outputs": [],
   "source": [
    "#partition of tree (answer the question)\n",
    "\n",
    "def partition_data(data, ask_question):\n",
    "    true, false = [], []\n",
    "    for row in data:\n",
    "        if ask_question.match(row):\n",
    "            true.append(row)\n",
    "        else:\n",
    "            false.append(row)\n",
    "    return true, false"
   ]
  },
  {
   "cell_type": "markdown",
   "metadata": {},
   "source": [
    "<b>Calculate the impurity</b>\n",
    "    <li>Impurity is the error in our dataset. We have to resude impurity of our dataset for good results.\n",
    "    <li><b>Formula:</b>\n",
    "        <br>&nbsp;&nbsp;&nbsp;&nbsp;&nbsp;&nbsp;Gini Impurity = 1 - sum(P^2) \n",
    "        <br>&nbsp;&nbsp;&nbsp;&nbsp;&nbsp;&nbsp;here, p^2 = squared probability of feature"
   ]
  },
  {
   "cell_type": "code",
   "execution_count": 55,
   "metadata": {},
   "outputs": [],
   "source": [
    "def gini_impurity(data):\n",
    "    count_vals = label_count(data)\n",
    "    imp = 1\n",
    "    \n",
    "    for label in count_vals:\n",
    "        probability = count_vals[label] / float(len(data))\n",
    "        imp = imp - probability**2\n",
    "    \n",
    "    return imp"
   ]
  },
  {
   "cell_type": "markdown",
   "metadata": {},
   "source": [
    "<b>Calculate the Information Gain"
   ]
  },
  {
   "cell_type": "code",
   "execution_count": 56,
   "metadata": {},
   "outputs": [],
   "source": [
    "def IG(l_node, r_node, feature_impurity):\n",
    "    probability = (len(l_node))/ (len(l_node) + len(r_node))\n",
    "    #return the impurity of root node, then left node and right node (it's called reminder)\n",
    "    return feature_impurity - (probability*gini_impurity(l_node) - (1 - probability)*gini_impurity(r_node))"
   ]
  },
  {
   "cell_type": "markdown",
   "metadata": {},
   "source": [
    "<b>Find best split</b>\n",
    "    <br>Best split is dependent on information gain. If the information gain is greater then it will become a root node.\n",
    "    <br>Once we find the root node, we have to devide our dataset into two category. It could be true and False, or many be Yes or No. (Mostly we divide data into the binary format)"
   ]
  },
  {
   "cell_type": "code",
   "execution_count": 57,
   "metadata": {},
   "outputs": [],
   "source": [
    "#Split the nodes based on Information Gain\n",
    "def split_data(data):\n",
    "    \n",
    "    feature_impurity = gini_impurity(data)\n",
    "    question = None\n",
    "    gain_info = 0\n",
    "    \n",
    "    \n",
    "    # starts from 0 therfore there is nothing in last position\n",
    "    n_features = len(data[0]) - 1 \n",
    "    \n",
    "    # Calculate the information gain of each feature\n",
    "    for column in range(n_features):\n",
    "        values = set([row[column] for row in data])\n",
    "        \n",
    "        #split data into true and false rows\n",
    "        for value in values:\n",
    "            ask_Q = Ask_Question(column, value)\n",
    "            true, false = partition_data(data, ask_Q)\n",
    "            \n",
    "            if len(true) == 0 or len(false) == 0:\n",
    "                continue\n",
    "                \n",
    "            information_gain = IG(true, false, feature_impurity)\n",
    "            \n",
    "            # after calculating Information gain, compare the IG of each feature and check which \n",
    "            # feature has maximumn informantion gain\n",
    "            if information_gain >= gain_info:\n",
    "                gain_info, question = information_gain, ask_Q \n",
    "    \n",
    "    # the feature with the maximum information gain should choose to ask the question in the root node\n",
    "    return gain_info, question"
   ]
  },
  {
   "cell_type": "markdown",
   "metadata": {},
   "source": [
    "<b>Now Create Leaf Node"
   ]
  },
  {
   "cell_type": "code",
   "execution_count": 58,
   "metadata": {},
   "outputs": [],
   "source": [
    "class Leaf_Node:\n",
    "    def __init__(self, data):\n",
    "        self.predict = label_count(data)"
   ]
  },
  {
   "cell_type": "markdown",
   "metadata": {},
   "source": [
    "<b>Create Decision Node"
   ]
  },
  {
   "cell_type": "code",
   "execution_count": 59,
   "metadata": {},
   "outputs": [],
   "source": [
    "class Decision_Node:\n",
    "    def __init__(self, ask_question, b_true, b_flase):\n",
    "        self.ask_question = ask_question\n",
    "        self.b_true = b_true\n",
    "        self.b_flase = b_flase\n",
    "        "
   ]
  },
  {
   "cell_type": "markdown",
   "metadata": {},
   "source": [
    "<b>Finally we have to create a decision tree"
   ]
  },
  {
   "cell_type": "code",
   "execution_count": 60,
   "metadata": {},
   "outputs": [],
   "source": [
    "def decision_tree(data):\n",
    "    gain_info, question = split_data(data)\n",
    "    \n",
    "    if gain_info == 0:\n",
    "        return Leaf_Node(data)\n",
    "    \n",
    "    true_r, false_r = partition_data(data, question)\n",
    "    \n",
    "    true_split = decision_tree(true_r)\n",
    "    false_split = decision_tree(false_r)\n",
    "    \n",
    "    return Decision_Node(question, true_split, false_split)"
   ]
  },
  {
   "cell_type": "markdown",
   "metadata": {},
   "source": [
    "<b>Build fit method to train the data"
   ]
  },
  {
   "cell_type": "code",
   "execution_count": 61,
   "metadata": {},
   "outputs": [],
   "source": [
    "def fit(data, node):\n",
    "    if isinstance(node, Leaf_Node):\n",
    "        return node.predict\n",
    "    \n",
    "    if node.ask_question.match(data):\n",
    "        return fit(data, node.b_true)\n",
    "    else:\n",
    "        return fit(data, node.b_flase)"
   ]
  },
  {
   "cell_type": "code",
   "execution_count": 62,
   "metadata": {},
   "outputs": [],
   "source": [
    "tree = decision_tree(titanic_train)"
   ]
  },
  {
   "cell_type": "markdown",
   "metadata": {},
   "source": [
    "<b>Lets test the data"
   ]
  },
  {
   "cell_type": "markdown",
   "metadata": {},
   "source": [
    "Take any random row to check if that person has survived or not?"
   ]
  },
  {
   "cell_type": "code",
   "execution_count": 63,
   "metadata": {},
   "outputs": [
    {
     "data": {
      "text/plain": [
       "[287.0, 3.0, 1.0, 30.0, 0.0, 0.0, 9.5, 1.0, 3.0]"
      ]
     },
     "execution_count": 63,
     "metadata": {},
     "output_type": "execute_result"
    }
   ],
   "source": [
    "#remove last column known as survived for test data, because it is target variable\n",
    "predicted_survived_or_not = titanic_test[1:2][0][0:-1]\n",
    "predicted_survived_or_not"
   ]
  },
  {
   "cell_type": "markdown",
   "metadata": {},
   "source": [
    "<b>fit the data and calculate the decision_tree() and calculate the results. So the below results shows that person on that perticular row has been survived"
   ]
  },
  {
   "cell_type": "markdown",
   "metadata": {},
   "source": [
    "In below results we can see that the person on 2nd th row will not survive as per model's prediction"
   ]
  },
  {
   "cell_type": "code",
   "execution_count": 64,
   "metadata": {},
   "outputs": [
    {
     "data": {
      "text/plain": [
       "{1.0: 1}"
      ]
     },
     "execution_count": 64,
     "metadata": {},
     "output_type": "execute_result"
    }
   ],
   "source": [
    "fit(predicted_survived_or_not, tree)"
   ]
  },
  {
   "cell_type": "markdown",
   "metadata": {},
   "source": [
    "## Evaluation of Model"
   ]
  },
  {
   "cell_type": "code",
   "execution_count": 65,
   "metadata": {},
   "outputs": [
    {
     "name": "stdout",
     "output_type": "stream",
     "text": [
      "Accuary of model is  86.03\n"
     ]
    }
   ],
   "source": [
    "count = 0\n",
    "\n",
    "actual_arr = []\n",
    "precticted_arr = []\n",
    "for data in titanic_test:\n",
    "    # last column of predicted data - labeled data\n",
    "    predicted = list(fit(data[0:-1], tree).keys())[0]\n",
    "    \n",
    "    # las column of the actual data\n",
    "    actual_data = data[-1]\n",
    "    \n",
    "    if predicted == actual_data:\n",
    "        count = count + 1\n",
    "        \n",
    "    actual_arr = np.append(actual_arr, actual_data)\n",
    "    precticted_arr = np.append(precticted_arr, predicted)\n",
    "    \n",
    "    \n",
    "    # check if original data matches with the predicted data and then calculate the accuracy score\n",
    "    #print(\"Original data {} and predicted data: {}\".format(actual_data, predicted))\n",
    " \n",
    "# Calculate the accuracy score\n",
    "accuracy = count/len(titanic_test)*100\n",
    "print(\"Accuary of model is \", round(accuracy, 2))\n"
   ]
  },
  {
   "cell_type": "code",
   "execution_count": 66,
   "metadata": {},
   "outputs": [],
   "source": [
    "import numpy\n",
    "a = numpy.asarray(precticted_arr)\n",
    "numpy.savetxt(\"new_pred.csv\", a, delimiter=\",\")"
   ]
  },
  {
   "cell_type": "markdown",
   "metadata": {},
   "source": [
    "<b> Above I have only created one dicision tree and I got accuracy score 86.03. I can create many decision tree and combine them to calcuate accuracy score then it will give me a good accuracy score. Combinition of multiple dicision trees are known as \"Random Forest\". Accuray score is also dependent on train and test dataset spliting amount. I have splited them into 80% train and 20% test dataset."
   ]
  },
  {
   "cell_type": "markdown",
   "metadata": {},
   "source": [
    "## Confusion Matrix"
   ]
  },
  {
   "cell_type": "markdown",
   "metadata": {},
   "source": [
    "We can check the performance of classification model using confusion matrix on the test dataset. \n",
    "<li>True Positive (TP): In this case the model predicts 1 and actual value is also 1. It means passenger survived on Titanic Cruise.\n",
    "<li>True Negative (TN): Here, the model predicts 0, and actual value is 0. So, we have predicted that passenger didn’t survived, which is similar to the actual value. \n",
    "<li>False Positive (FP): The model predicts 1, but actual value is 0, which means we have predicted that the passenger survived on Titanic Cruise, but in actual he/she didn’t survive.\n",
    "<li>False Negative (FN): The model predicts 0, but actual value is 1. It means we have predicted passenger not survived, but in real he/she survived.\n"
   ]
  },
  {
   "cell_type": "code",
   "execution_count": 67,
   "metadata": {},
   "outputs": [
    {
     "data": {
      "text/plain": [
       "array([[92, 12],\n",
       "       [13, 62]])"
      ]
     },
     "execution_count": 67,
     "metadata": {},
     "output_type": "execute_result"
    }
   ],
   "source": [
    "from sklearn.metrics import confusion_matrix\n",
    "\n",
    "confusion_matrix(actual_arr, precticted_arr)"
   ]
  },
  {
   "cell_type": "markdown",
   "metadata": {},
   "source": [
    "We can see that decision tree model has 92 true positive, 13 False Negative, 12 False Positive and 62 True Negative. So, decision tree model predicted 25 wrong out of 179 records in test data."
   ]
  }
 ],
 "metadata": {
  "kernelspec": {
   "display_name": "Python 3",
   "language": "python",
   "name": "python3"
  },
  "language_info": {
   "codemirror_mode": {
    "name": "ipython",
    "version": 3
   },
   "file_extension": ".py",
   "mimetype": "text/x-python",
   "name": "python",
   "nbconvert_exporter": "python",
   "pygments_lexer": "ipython3",
   "version": "3.7.6"
  }
 },
 "nbformat": 4,
 "nbformat_minor": 4
}
